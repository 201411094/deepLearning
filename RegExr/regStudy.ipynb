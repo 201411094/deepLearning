{
 "cells": [
  {
   "cell_type": "code",
   "execution_count": 1,
   "metadata": {},
   "outputs": [],
   "source": [
    "import re"
   ]
  },
  {
   "cell_type": "code",
   "execution_count": 2,
   "metadata": {},
   "outputs": [],
   "source": [
    "text = \"< 병리검사 의뢰서 입력내용 > 1.채취부위: 2.수 술 명: 3.임상진단: 4.검 체 명:Breast (RT), RT.nipple&areolar < 동결절편 진단 > #1. 동결절편 조직은 1.4 x 1.1 x 0.5cm 크기의 조직임. 동결절편 진단 (#1) ; Right nipple margin : Positive (DCIS) /KL/SYP/ #2. 동결절편 조직은 1.4 x 0.6 x 0.2cm 크기의 림프절 1개임. 동결절편 진단 (#2) ; Right sentinel node #1 : Negative (0/1)  /KL/SYP/ < 육안소견 > 받은 조직은 총 2부분임. #1. \\\"right breast\\\" 신선 상태의 전 절제된 유방 조직으로 nipple-sparing mastectomy with sentinel lymph node biopsy 검체임. 유방 조직의 크기는 14.2 x 13.6 x 0.9cm 임. 외견을 관찰하였을 때 방향 표기되어 왔으며, 유방 실질 표면에 특이 소견 없음. 연속 절개하여 관찰하였을 때 내부에 1개의 회백색 고형성 종괴가 관찰됨. 종괴의 크기는 2.5 x 1.7 x 1.1cm 이며, deep margin 과 0.3cm, superficial margin 과 0.7cm 떨어져 있음. 종괴는 nodular 한 lesion 들로 이루어져 있으며 내부에 출혈, 괴사 및 석회화 소견 관찰되지 않음. Mapping 시행함. #2. \\\"right nipple and areolar\\\" 라 표기되어 온 신선 상태의 전 절제된 유두 및 주변 areola 를 포함하는 검체로 excision 검체임. 검체의 크기는 2.5 x 2.4 x 0.8cm 임. 외견 및 단면상 특이 소견 관찰되지 않음. 전부 포매함. [ Slide key : 1-15; \\\"right breast\\\" (1/2/3; 종괴 대표 단면, 4-5; medial 0.5cm 간격 mapping, 6-11; lateral 0.5cm 간격 mapping, 12; 상내방, 13; 하내방, 14; 상외방, 15; 하외방), 16-18; \\\"right nipple and areolar\\\" 전부 포매 ] ( Ink code : red; superior, blue; lateral, yellow; inferior, green; medial, black; deep margin, \\\"right nipple and areola\\\" 의 deep margin ) < MICRO (18 HE, 2 Fro), examined by 정율리) > DIAGNOSIS: [A] Breast, right, nipple-sparing mastectomy with sentinel lymph node biopsy : 1. DUCTAL CARCINOMA IN SITU 1) Extent of tumor: 4.0 x 3.5 x 2.0cm 2) Nuclear grade: grade 3 3) Necrosis: present 4) Architectural pattern: solid, comedo 5) Surgical margins: free from tumor Safety margin: a) deep resection margin: 0.1cm b) superficial resection margin: 0.7cm 6) Lymph nodes a) no metastasis in one sentinel lymph node(pN0(sn)) (\\\"right sentinel node #1\\\"(Fro#2): 0/1) b) sentinel node status: negative (0/1) 7) Microcalcification: present 8) Pathologic stage: pTisN0(sn) 2. LOBULAR CARCINOMA IN SITU, multifocal, diffuse with clear resection margin [B] Breast, \\\"right nipple and areolar\\\", excision : 1. DUCTAL CARCINOMA IN SITU with Paget disease of nipple 2. LOBULAR CARCINOMA IN SITU, focal\""
   ]
  },
  {
   "cell_type": "code",
   "execution_count": 3,
   "metadata": {},
   "outputs": [
    {
     "output_type": "stream",
     "name": "stdout",
     "text": "[('1.4', '1.1', '0.5'), ('1.4', '0.6', '0.2'), ('14.2', '13.6', '0.9'), ('2.5', '1.7', '1.1'), ('2.5', '2.4', '0.8'), ('4.0', '3.5', '2.0')]\n"
    }
   ],
   "source": [
    "find_num=re.compile(\"(\\d*\\.?\\d+)\\sx\\s(\\d*\\.?\\d+)\\sx\\s(\\d*\\.?\\d+)cm\")\n",
    "\n",
    "array1=find_num.findall(text)\n",
    "print(array1)"
   ]
  },
  {
   "cell_type": "code",
   "execution_count": 4,
   "metadata": {},
   "outputs": [
    {
     "output_type": "stream",
     "name": "stdout",
     "text": "[('i', '0')]\n"
    }
   ],
   "source": [
    "find_pathologic = re.compile(\"pT(\\w)\\wN(\\d)\")\n",
    "\n",
    "array2=find_pathologic.findall(text)\n",
    "print(array2)"
   ]
  },
  {
   "cell_type": "code",
   "execution_count": 5,
   "metadata": {},
   "outputs": [
    {
     "output_type": "stream",
     "name": "stdout",
     "text": "[(' 의뢰서 입력내용 > 1.채취부위: 2.수 술 명: 3.임상진단: 4.검 체 명:Breast (RT), RT.nipple&areolar < 동결절편 진단 > #1. 동결절편 조직은 1.4 x 1.1 x 0.5cm 크기의 조직임. 동결절편 진단 (#1) ; Right nipple margin : Positive (DCIS) /KL/SYP/ #2. 동결절편 조직은 1.4 x 0.6 x 0.2cm 크기의 림프절 1개임. 동결절편 진단 (#2) ; Right sentinel node #1 : Negative (0/1)  /KL/SYP/ < 육안소견 > 받은 조직은 총 2부분임. #1. \"right breast\" 신선 상태의 전 절제된 유방 조직으로 nipple-sparing mastectomy with sentinel lymph node biopsy 검체임. 유방 조직의 크기는 14.2 x 13.6 x 0.9cm 임. 외견을 관찰하였을 때 방향 표기되어 왔으며, 유방 실질 표면에 특이 소견 없음. 연속 절개하여 관찰하였을 때 내부에 1개의 회백색 고형성 종괴가 관찰됨. 종괴의 크기는 2.5 x 1.7 x 1.1cm 이며, deep margin 과 0.3cm, superficial margin 과 0.7cm 떨어져 있음. 종괴는 nodular 한 lesion 들로 이루어져 있으며 내부에 출혈, 괴사 및 석회화 소견 관찰되지 않음. Mapping 시행함. #2. \"right nipple and areolar\" 라 표기되어 온 신선 상태의 전 절제된 유두 및 주변 areola 를 포함하는 검체로 excision 검체임. 검체의 크기는 2.5 x 2.4 x 0.8cm 임. 외견 및 단면상 특이 소견 관찰되지 않음. 전부 포매함. [ Slide key : 1-15; \"right breast\" (1/2/3; 종괴 대표 단면, 4-5; medial 0.5cm 간격 mapping, 6-11; lateral 0.5cm 간격 mapping, 12; 상내방, 13; 하내방, 14; 상외방, 15; 하외방), 16-18; \"right nipple and areolar\" 전부 포매 ] ( Ink code : red; superior, blue; lateral, yellow; inferior, green; medial, black; deep margin, \"right nipple and areola\" 의 deep margin ) < MICRO (18 HE, 2 Fro), examined by 정율리) > DIAGNOSIS: [A] Breast, right, nipple-sparing mastectomy with sentinel lymph node biopsy : 1. DUCTAL CARCINOMA IN SITU 1) Extent of tumor: 4.0 x 3.5 x 2.0cm 2) Nuclear grade: grade 3 3) Necrosis: present 4) Architectural pattern: solid, comedo 5) Surgical margins: free from tumor Safety margin: a) deep resection margin: 0.1cm b) superficial resection margin: 0.7cm 6) Lymph nodes a) no metastasis in one sentinel lymph node(pN0(sn)) (\"right sentinel node #1\"(Fro#2): 0/1) b) sentinel node status: negative (0/1) 7) Microcalcification: present 8) Pathologic stage: pTisN0(sn) 2. LOBULAR CARCINOMA IN SITU, multifocal, diffuse with clear resection margin [B] Breast, \"right nipple and areolar\", excision : 1. DUCTAL CARCINOMA IN SITU with Paget disease of nipple 2. LOBULAR CARCINOMA IN SITU,', 'focal')]\n"
    }
   ],
   "source": [
    "find_micro = re.compile(\"병리검사(.+):\\s(\\w+)\")\n",
    "\n",
    "array3=find_micro.findall(text)\n",
    "print(array3)"
   ]
  },
  {
   "cell_type": "code",
   "execution_count": 6,
   "metadata": {},
   "outputs": [
    {
     "output_type": "stream",
     "name": "stdout",
     "text": "[]\n"
    }
   ],
   "source": [
    "find_lym = re.compile(\"Lymphatic\\sinvasion:\\s(\\w+\\s?\\w*)\")\n",
    "\n",
    "array4=find_lym.findall(text)\n",
    "print(array4)"
   ]
  },
  {
   "cell_type": "code",
   "execution_count": null,
   "metadata": {},
   "outputs": [],
   "source": []
  }
 ],
 "metadata": {
  "language_info": {
   "codemirror_mode": {
    "name": "ipython",
    "version": 3
   },
   "file_extension": ".py",
   "mimetype": "text/x-python",
   "name": "python",
   "nbconvert_exporter": "python",
   "pygments_lexer": "ipython3",
   "version": "3.7.7-final"
  },
  "orig_nbformat": 2,
  "kernelspec": {
   "name": "shyun",
   "display_name": "shyun"
  }
 },
 "nbformat": 4,
 "nbformat_minor": 2
}