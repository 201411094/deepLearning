{
 "cells": [
  {
   "cell_type": "code",
   "execution_count": 1,
   "metadata": {},
   "outputs": [
    {
     "output_type": "stream",
     "name": "stdout",
     "text": "Reading sheet 0\n"
    }
   ],
   "source": [
    "import re\n",
    "import pandas as pd\n",
    "from datetime import datetime\n",
    "\n",
    "df=pd.ExcelFile('./rawTestData.xlsx').parse(sheet_name=0, dtype=object, engine='xlrd', verbose=True)"
   ]
  },
  {
   "cell_type": "markdown",
   "metadata": {},
   "source": [
    "## - 사용할 컬럼명 저장 (array)"
   ]
  },
  {
   "cell_type": "code",
   "execution_count": 2,
   "metadata": {},
   "outputs": [],
   "source": [
    "array=[]\n",
    "for i in df:    \n",
    "    array.append(df.iloc[0,df.columns.get_loc(i)])\n",
    "array=array[:-2]"
   ]
  },
  {
   "cell_type": "markdown",
   "metadata": {},
   "source": [
    "## - 엑셀에서 읽어온 dataframe 중 사용하는 컬럼만 추출"
   ]
  },
  {
   "cell_type": "code",
   "execution_count": 3,
   "metadata": {},
   "outputs": [],
   "source": [
    "df_use=df.loc[1:,['센터코드','IRB승인 번호','환자대체번호','외과병리접수일자','외과병리판독일자','외과병리순번','검사결과내용']]"
   ]
  },
  {
   "cell_type": "code",
   "execution_count": 4,
   "metadata": {},
   "outputs": [
    {
     "output_type": "execute_result",
     "data": {
      "text/plain": "       센터코드 IRB승인 번호    환자대체번호  외과병리접수일자  외과병리판독일자 외과병리순번  \\\n1     SNUBH      IRB  24281261  20150212  20150217      1   \n2     SNUBH      IRB  24281300  20160118  20160122      1   \n3     SNUBH      IRB  24299813  20150414  20150422      2   \n4     SNUBH      IRB  24301235  20161201  20161212      1   \n5     SNUBH      IRB  24303705  20150807  20150813      1   \n...     ...      ...       ...       ...       ...    ...   \n8257  SNUBH      IRB  25848263  20190521  20190528      1   \n8258  SNUBH      IRB  25860009  20160404  20160408      1   \n8259  SNUBH      IRB  25896077  20190404  20190410      1   \n8260  SNUBH      IRB  25900875  20160901  20160907      1   \n8261  SNUBH      IRB  25926295  20160324  20160330      1   \n\n                                                 검사결과내용  \n1     < 병리검사 의뢰서 입력내용 > \\r1.채취부위:\\r2.수 술 명:\\r3.임상진단:...  \n2     < 병리검사 의뢰서 입력내용 > \\r1.채취부위:\\r2.수 술 명:\\r3.임상진단:...  \n3     < 병리검사 의뢰서 입력내용 > \\r1.채취부위:Rt. ovary\\r2.수 술 명:...  \n4     < 병리검사 의뢰서 입력내용 > \\r1.채취부위:\\r2.수 술 명:\\r3.임상진단:...  \n5     < 병리검사 의뢰서 입력내용 > \\r1.채취부위:1. Lt breast2. Lt l...  \n...                                                 ...  \n8257  < 병리검사 의뢰서 입력내용 > \\r1.채취부위:\\r2.수 술 명:\\r3.임상진단:...  \n8258  < 병리검사 의뢰서 입력내용 > \\r1.채취부위:1. Rt. breast mass\\...  \n8259  < 병리검사 의뢰서 입력내용 > \\r1.채취부위:Lt. breast\\r2.수 술 명...  \n8260  < 병리검사 의뢰서 입력내용 > \\r1.채취부위:\\r2.수 술 명:\\r3.임상진단:...  \n8261  < 병리검사 의뢰서 입력내용 > \\r1.채취부위:\\r2.수 술 명:\\r3.임상진단:...  \n\n[8261 rows x 7 columns]",
      "text/html": "<div>\n<style scoped>\n    .dataframe tbody tr th:only-of-type {\n        vertical-align: middle;\n    }\n\n    .dataframe tbody tr th {\n        vertical-align: top;\n    }\n\n    .dataframe thead th {\n        text-align: right;\n    }\n</style>\n<table border=\"1\" class=\"dataframe\">\n  <thead>\n    <tr style=\"text-align: right;\">\n      <th></th>\n      <th>센터코드</th>\n      <th>IRB승인 번호</th>\n      <th>환자대체번호</th>\n      <th>외과병리접수일자</th>\n      <th>외과병리판독일자</th>\n      <th>외과병리순번</th>\n      <th>검사결과내용</th>\n    </tr>\n  </thead>\n  <tbody>\n    <tr>\n      <th>1</th>\n      <td>SNUBH</td>\n      <td>IRB</td>\n      <td>24281261</td>\n      <td>20150212</td>\n      <td>20150217</td>\n      <td>1</td>\n      <td>&lt; 병리검사 의뢰서 입력내용 &gt; \\r1.채취부위:\\r2.수 술 명:\\r3.임상진단:...</td>\n    </tr>\n    <tr>\n      <th>2</th>\n      <td>SNUBH</td>\n      <td>IRB</td>\n      <td>24281300</td>\n      <td>20160118</td>\n      <td>20160122</td>\n      <td>1</td>\n      <td>&lt; 병리검사 의뢰서 입력내용 &gt; \\r1.채취부위:\\r2.수 술 명:\\r3.임상진단:...</td>\n    </tr>\n    <tr>\n      <th>3</th>\n      <td>SNUBH</td>\n      <td>IRB</td>\n      <td>24299813</td>\n      <td>20150414</td>\n      <td>20150422</td>\n      <td>2</td>\n      <td>&lt; 병리검사 의뢰서 입력내용 &gt; \\r1.채취부위:Rt. ovary\\r2.수 술 명:...</td>\n    </tr>\n    <tr>\n      <th>4</th>\n      <td>SNUBH</td>\n      <td>IRB</td>\n      <td>24301235</td>\n      <td>20161201</td>\n      <td>20161212</td>\n      <td>1</td>\n      <td>&lt; 병리검사 의뢰서 입력내용 &gt; \\r1.채취부위:\\r2.수 술 명:\\r3.임상진단:...</td>\n    </tr>\n    <tr>\n      <th>5</th>\n      <td>SNUBH</td>\n      <td>IRB</td>\n      <td>24303705</td>\n      <td>20150807</td>\n      <td>20150813</td>\n      <td>1</td>\n      <td>&lt; 병리검사 의뢰서 입력내용 &gt; \\r1.채취부위:1. Lt breast2. Lt l...</td>\n    </tr>\n    <tr>\n      <th>...</th>\n      <td>...</td>\n      <td>...</td>\n      <td>...</td>\n      <td>...</td>\n      <td>...</td>\n      <td>...</td>\n      <td>...</td>\n    </tr>\n    <tr>\n      <th>8257</th>\n      <td>SNUBH</td>\n      <td>IRB</td>\n      <td>25848263</td>\n      <td>20190521</td>\n      <td>20190528</td>\n      <td>1</td>\n      <td>&lt; 병리검사 의뢰서 입력내용 &gt; \\r1.채취부위:\\r2.수 술 명:\\r3.임상진단:...</td>\n    </tr>\n    <tr>\n      <th>8258</th>\n      <td>SNUBH</td>\n      <td>IRB</td>\n      <td>25860009</td>\n      <td>20160404</td>\n      <td>20160408</td>\n      <td>1</td>\n      <td>&lt; 병리검사 의뢰서 입력내용 &gt; \\r1.채취부위:1. Rt. breast mass\\...</td>\n    </tr>\n    <tr>\n      <th>8259</th>\n      <td>SNUBH</td>\n      <td>IRB</td>\n      <td>25896077</td>\n      <td>20190404</td>\n      <td>20190410</td>\n      <td>1</td>\n      <td>&lt; 병리검사 의뢰서 입력내용 &gt; \\r1.채취부위:Lt. breast\\r2.수 술 명...</td>\n    </tr>\n    <tr>\n      <th>8260</th>\n      <td>SNUBH</td>\n      <td>IRB</td>\n      <td>25900875</td>\n      <td>20160901</td>\n      <td>20160907</td>\n      <td>1</td>\n      <td>&lt; 병리검사 의뢰서 입력내용 &gt; \\r1.채취부위:\\r2.수 술 명:\\r3.임상진단:...</td>\n    </tr>\n    <tr>\n      <th>8261</th>\n      <td>SNUBH</td>\n      <td>IRB</td>\n      <td>25926295</td>\n      <td>20160324</td>\n      <td>20160330</td>\n      <td>1</td>\n      <td>&lt; 병리검사 의뢰서 입력내용 &gt; \\r1.채취부위:\\r2.수 술 명:\\r3.임상진단:...</td>\n    </tr>\n  </tbody>\n</table>\n<p>8261 rows × 7 columns</p>\n</div>"
     },
     "metadata": {},
     "execution_count": 4
    }
   ],
   "source": [
    "df_use"
   ]
  },
  {
   "cell_type": "code",
   "execution_count": 5,
   "metadata": {},
   "outputs": [
    {
     "output_type": "execute_result",
     "data": {
      "text/plain": "8261"
     },
     "metadata": {},
     "execution_count": 5
    }
   ],
   "source": [
    "len(df_use)"
   ]
  },
  {
   "cell_type": "markdown",
   "metadata": {},
   "source": [
    "## - 데이터를 저장할 dataframe 생성"
   ]
  },
  {
   "cell_type": "code",
   "execution_count": 6,
   "metadata": {},
   "outputs": [],
   "source": [
    "df_result=pd.DataFrame(index=range(0,8261),columns=array)"
   ]
  },
  {
   "cell_type": "code",
   "execution_count": 7,
   "metadata": {},
   "outputs": [
    {
     "output_type": "stream",
     "name": "stdout",
     "text": "CENTER_CD IRB_APRV_NO PT_SBST_NO SGPT_ACPT_YMD SGPT_READ_YMD SGPT_SEQ  \\\n0          NaN         NaN        NaN           NaN           NaN      NaN   \n1          NaN         NaN        NaN           NaN           NaN      NaN   \n2          NaN         NaN        NaN           NaN           NaN      NaN   \n3          NaN         NaN        NaN           NaN           NaN      NaN   \n4          NaN         NaN        NaN           NaN           NaN      NaN   \n...        ...         ...        ...           ...           ...      ...   \n8256       NaN         NaN        NaN           NaN           NaN      NaN   \n8257       NaN         NaN        NaN           NaN           NaN      NaN   \n8258       NaN         NaN        NaN           NaN           NaN      NaN   \n8259       NaN         NaN        NaN           NaN           NaN      NaN   \n8260       NaN         NaN        NaN           NaN           NaN      NaN   \n\n     SGPT_MAIN_HVST_SITE_CD SGPT_MAIN_HVST_SITE_NM SGPT_OPRT_LOCA_CONT  \\\n0                       NaN                    NaN                 NaN   \n1                       NaN                    NaN                 NaN   \n2                       NaN                    NaN                 NaN   \n3                       NaN                    NaN                 NaN   \n4                       NaN                    NaN                 NaN   \n...                     ...                    ...                 ...   \n8256                    NaN                    NaN                 NaN   \n8257                    NaN                    NaN                 NaN   \n8258                    NaN                    NaN                 NaN   \n8259                    NaN                    NaN                 NaN   \n8260                    NaN                    NaN                 NaN   \n\n     SGPT_BRSTM_SIZE_VL  ... SGPT_LN_MTST_CNCR_SIZE_VL SGPT_VASC_INVA_CONT  \\\n0                   NaN  ...                       NaN                 NaN   \n1                   NaN  ...                       NaN                 NaN   \n2                   NaN  ...                       NaN                 NaN   \n3                   NaN  ...                       NaN                 NaN   \n4                   NaN  ...                       NaN                 NaN   \n...                 ...  ...                       ...                 ...   \n8256                NaN  ...                       NaN                 NaN   \n8257                NaN  ...                       NaN                 NaN   \n8258                NaN  ...                       NaN                 NaN   \n8259                NaN  ...                       NaN                 NaN   \n8260                NaN  ...                       NaN                 NaN   \n\n     SGPT_LYMP_INVA_CONT SGPT_TUMR_BORD_CONT SGPT_MICF_CONT  \\\n0                    NaN                 NaN            NaN   \n1                    NaN                 NaN            NaN   \n2                    NaN                 NaN            NaN   \n3                    NaN                 NaN            NaN   \n4                    NaN                 NaN            NaN   \n...                  ...                 ...            ...   \n8256                 NaN                 NaN            NaN   \n8257                 NaN                 NaN            NaN   \n8258                 NaN                 NaN            NaN   \n8259                 NaN                 NaN            NaN   \n8260                 NaN                 NaN            NaN   \n\n     SGPT_ITRT_RLPS_CLSF_CD SGPT_PATL_T_STAG_VL SGPT_PATL_N_STAG_VL  \\\n0                       NaN                 NaN                 NaN   \n1                       NaN                 NaN                 NaN   \n2                       NaN                 NaN                 NaN   \n3                       NaN                 NaN                 NaN   \n4                       NaN                 NaN                 NaN   \n...                     ...                 ...                 ...   \n8256                    NaN                 NaN                 NaN   \n8257                    NaN                 NaN                 NaN   \n8258                    NaN                 NaN                 NaN   \n8259                    NaN                 NaN                 NaN   \n8260                    NaN                 NaN                 NaN   \n\n     SGPT_ADD_READ_CONT CRTN_DT  \n0                   NaN     NaN  \n1                   NaN     NaN  \n2                   NaN     NaN  \n3                   NaN     NaN  \n4                   NaN     NaN  \n...                 ...     ...  \n8256                NaN     NaN  \n8257                NaN     NaN  \n8258                NaN     NaN  \n8259                NaN     NaN  \n8260                NaN     NaN  \n\n[8261 rows x 40 columns]\n"
    }
   ],
   "source": [
    "print(df_result)"
   ]
  },
  {
   "cell_type": "markdown",
   "metadata": {},
   "source": [
    "## - 사용할 정규식들 정의"
   ]
  },
  {
   "cell_type": "code",
   "execution_count": 26,
   "metadata": {},
   "outputs": [
    {
     "output_type": "execute_result",
     "data": {
      "text/plain": "33"
     },
     "metadata": {},
     "execution_count": 26
    }
   ],
   "source": [
    "find=[]                 #7~40번까지 정규식 저장하는 array\n",
    "\n",
    "#7~11\n",
    "find.append(re.compile(\"(< 병리검사 의뢰서 입력내용 >)\"))\n",
    "find.append(re.compile(\"(< 병리검사 의뢰서 입력내용 >)\"))\n",
    "find.append(re.compile(\"(< 병리검사 의뢰서 입력내용 >)\"))\n",
    "find.append(re.compile(\"Size\\sof\\stumor\\s\\(invasive\\scomponent\\sonly\\):\\s(\\d+\\.?\\d*)\\sx\\s(\\d+\\.?\\d*)\\sx\\s(\\d+\\.?\\d*)cm\"))\n",
    "find.append(re.compile(\"(MRI|Somo)\"))\n",
    "\n",
    "#12~16\n",
    "find.append(re.compile(\"Extent\\sof\\stumor\\s*:\\s*(\\d+\\.?\\d*)\\sx\\s(\\d+\\.?\\d*)\\sx\\s(\\d+\\.?\\d*)cm\"))\n",
    "find.append(re.compile(\"(< 병리검사 의뢰서 입력내용 >)\"))\n",
    "find.append(re.compile(\"Surgical\\smargins\\s*:\\s*clear\\s*but\\s*close\\s*to\\s*(.*)[safety|Safety]|Surgical\\smargins\\s*:\\s*involvement\\s*of\\s*(.+)\\([safety|Safety]\"))\n",
    "find.append(re.compile(\"(< 병리검사 의뢰서 입력내용 >)\"))\n",
    "find.append(re.compile(\"Histologic grade\\s*\\(.*\\):\\s*Grade\\s*(\\w+//*\\w*)\"))\n",
    "\n",
    "#17~21\n",
    "find.append(re.compile(\"(< 병리검사 의뢰서 입력내용 >)\"))\n",
    "find.append(re.compile(\"nuclear\\sgrade:\\sgrade\\s(\\d+)\"))\n",
    "find.append(re.compile(\"necrosis:\\s(\\w+)\"))\n",
    "find.append(re.compile(\"(< 병리검사 의뢰서 입력내용 >)\"))\n",
    "find.append(re.compile(\"extensive\\sintraductal\\scomponent\\s*:\\s*(\\w+)\"))\n",
    "#22~26\n",
    "find.append(re.compile(\"involvement\\sof\\slactiferous\\sduct\\s*:\\s*(\\w+)\"))\n",
    "find.append(re.compile(\"(< 병리검사 의뢰서 입력내용 >)\"))\n",
    "find.append(re.compile(\"(< 병리검사 의뢰서 입력내용 >)\"))\n",
    "find.append(re.compile(\"(< 병리검사 의뢰서 입력내용 >)\"))\n",
    "find.append(re.compile(\"(< 병리검사 의뢰서 입력내용 >)\"))\n",
    "#27~31\n",
    "find.append(re.compile(\"(< 병리검사 의뢰서 입력내용 >)\"))\n",
    "find.append(re.compile(\"(< 병리검사 의뢰서 입력내용 >)\"))\n",
    "find.append(re.compile(\"(< 병리검사 의뢰서 입력내용 >)\"))\n",
    "find.append(re.compile(\"(< 병리검사 의뢰서 입력내용 >)\"))\n",
    "find.append(re.compile(\"(< 병리검사 의뢰서 입력내용 >)\"))\n",
    "#32~36\n",
    "find.append(re.compile(\"(< 병리검사 의뢰서 입력내용 >)\"))\n",
    "find.append(re.compile(\"(< 병리검사 의뢰서 입력내용 >)\"))\n",
    "find.append(re.compile(\"(< 병리검사 의뢰서 입력내용 >)\"))\n",
    "find.append(re.compile(\"Microcal\\w+:\\s(\\w+)\"))\n",
    "find.append(re.compile(\"(< 병리검사 의뢰서 입력내용 >)\"))\n",
    "#37~39\n",
    "find.append(re.compile(\"pT(\\w)\\wN\\d\"))\n",
    "find.append(re.compile(\"pT\\w\\wN(\\d)\"))\n",
    "find.append(re.compile(\"(< 병리검사 의뢰서 입력내용 >)\"))\n",
    "\n",
    "len(find)"
   ]
  },
  {
   "cell_type": "code",
   "execution_count": 27,
   "metadata": {},
   "outputs": [],
   "source": [
    "for i in range(0,len(df_use)):\n",
    "    for col in range(0,6):\n",
    "        df_result.iloc[i,col]=df_use.iloc[i,col]\n",
    "\n",
    "    for col in range(6,39):\n",
    "        df_result.iloc[i,col]=find[col-6].findall(df_use.iloc[i,df_use.columns.get_loc('검사결과내용')])\n",
    "    df_result.iloc[i,39]=datetime.now()\n",
    "    "
   ]
  },
  {
   "cell_type": "code",
   "execution_count": 28,
   "metadata": {},
   "outputs": [
    {
     "output_type": "execute_result",
     "data": {
      "text/plain": "0                     []\n1               [absent]\n2                     []\n3                     []\n4               [absent]\n              ...       \n8256    [absent, absent]\n8257                  []\n8258            [absent]\n8259            [absent]\n8260                  []\nName: SGPT_NIPL_INVA_CONT, Length: 8261, dtype: object"
     },
     "metadata": {},
     "execution_count": 28
    }
   ],
   "source": [
    "df_result['SGPT_NIPL_INVA_CONT']\n"
   ]
  },
  {
   "cell_type": "code",
   "execution_count": 22,
   "metadata": {},
   "outputs": [],
   "source": [
    "df_result.to_csv('result.csv',sep=',',header=True,index=False, encoding='utf-8-sig')"
   ]
  },
  {
   "cell_type": "code",
   "execution_count": null,
   "metadata": {},
   "outputs": [],
   "source": []
  }
 ],
 "metadata": {
  "language_info": {
   "codemirror_mode": {
    "name": "ipython",
    "version": 3
   },
   "file_extension": ".py",
   "mimetype": "text/x-python",
   "name": "python",
   "nbconvert_exporter": "python",
   "pygments_lexer": "ipython3",
   "version": "3.7.7-final"
  },
  "orig_nbformat": 2,
  "kernelspec": {
   "name": "python37764bitkshconda2203cf8365d34cca84b4c277a6612246",
   "display_name": "Python 3.7.7 64-bit ('ksh': conda)"
  }
 },
 "nbformat": 4,
 "nbformat_minor": 2
}